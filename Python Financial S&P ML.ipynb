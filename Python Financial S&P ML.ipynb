{
 "cells": [
  {
   "cell_type": "code",
   "execution_count": 3,
   "metadata": {
    "collapsed": false
   },
   "outputs": [],
   "source": [
    "import bs4 as bs\n",
    "import datetime as dt\n",
    "import matplotlib.pyplot as plt\n",
    "from matplotlib import style\n",
    "import numpy as np\n",
    "import os\n",
    "import pandas as pd\n",
    "import pandas_datareader.data as web\n",
    "import pickle\n",
    "import requests\n",
    "from collections import Counter\n",
    "\n",
    "# Process data to create labels\n",
    "def process_data_for_labels(ticker):\n",
    "    hm_days = 7\n",
    "    df = pd.read_csv('sp500_joined_closes.csv', index_col=0)\n",
    "    tickers = df.columns.values.tolist()\n",
    "    \n",
    "    for i in range(1,hm_days+1):\n",
    "        df['{}_{}d'.format(ticker,i)] = (df[ticker].shift(-i) - df[ticker]) / df[ticker]\n",
    "        \n",
    "    df.fillna(0, inplace=Ture)\n",
    "    return tickers, df\n",
    "\n",
    "# Function to create label\n",
    "def buy_sell_hold(*args):\n",
    "    cols + [c for c in args]\n",
    "    requirements = 0.02\n",
    "    for col in cols:\n",
    "        if col > requirements:\n",
    "            return 1\n",
    "        if col < -requirements:\n",
    "            return -1\n",
    "    return 0\n",
    "\n",
    "# Function to extract featuresets\n",
    "def extract_featuresets(ticker):\n",
    "    tickers, df = process_data_for_labels(ticker)\n",
    "    \n",
    "    df['{}_target'.format(ticker)] = list(map( buy_sell_hold,\n",
    "                                             df['{}_1d'.format(ticker)], \n",
    "                                             df['{}_2d'.format(ticker)],\n",
    "                                             df['{}_3d'.format(ticker)],\n",
    "                                             df['{}_4d'.format(ticker)],\n",
    "                                             df['{}_5d'.format(ticker)],\n",
    "                                             df['{}_6d'.format(ticker)],\n",
    "                                             df['{}_7d'.format(ticker)],))\n",
    "    \n",
    "    vals = df['{}_target'.format(ticker)].values.tolist\n",
    "    str_vals = [str(i) for i in vals]\n",
    "    print('Data spread:',Counter(str_vals))\n",
    "    \n",
    "    df.fillna(0, inplace=True)\n",
    "    df = df.replace([np.inf, -np.inf], np.nan)\n",
    "    df.dropna(inplace=True)\n",
    "    \n",
    "    df_vals = df[[ticker for ticker in tickers]].pct_change()\n",
    "    df_vals = df_vals.replace([np.inf, -np.inf], 0)\n",
    "    df_vals.fillna(0, inplace=True)\n",
    "    \n",
    "    X = df_vals.values\n",
    "    y = df['{}_target'.format(ticker)].values\n",
    "    \n",
    "    return X,y,df"
   ]
  },
  {
   "cell_type": "code",
   "execution_count": null,
   "metadata": {
    "collapsed": true
   },
   "outputs": [],
   "source": []
  }
 ],
 "metadata": {
  "kernelspec": {
   "display_name": "Python 2",
   "language": "python",
   "name": "python2"
  },
  "language_info": {
   "codemirror_mode": {
    "name": "ipython",
    "version": 2
   },
   "file_extension": ".py",
   "mimetype": "text/x-python",
   "name": "python",
   "nbconvert_exporter": "python",
   "pygments_lexer": "ipython2",
   "version": "2.7.13"
  }
 },
 "nbformat": 4,
 "nbformat_minor": 0
}
