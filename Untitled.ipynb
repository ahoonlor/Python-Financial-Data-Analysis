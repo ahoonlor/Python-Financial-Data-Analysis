{
 "cells": [
  {
   "cell_type": "code",
   "execution_count": 1,
   "metadata": {
    "collapsed": false
   },
   "outputs": [],
   "source": [
    "import urllib2\n",
    "import pytz\n",
    "import pandas as pd\n",
    "\n",
    "from bs4 import BeautifulSoup\n",
    "from datetime import datetime\n",
    "import pandas_datareader.data as web\n",
    "\n",
    "\n",
    "\n",
    "SITE = \"http://en.wikipedia.org/wiki/List_of_S%26P_500_companies\"\n",
    "START = datetime(1900, 1, 1, 0, 0, 0, 0, pytz.utc)\n",
    "END = datetime.today().utcnow()\n",
    "\n",
    "\n",
    "def scrape_list(site):\n",
    "    hdr = {'User-Agent': 'Mozilla/5.0'}\n",
    "    req = urllib2.Request(site, headers=hdr)\n",
    "    page = urllib2.urlopen(req)\n",
    "    soup = BeautifulSoup(page)\n",
    "\n",
    "    table = soup.find('table', {'class': 'wikitable sortable'})\n",
    "    sector_tickers = dict()\n",
    "    for row in table.findAll('tr'):\n",
    "        col = row.findAll('td')\n",
    "        if len(col) > 0:\n",
    "            sector = str(col[3].string.strip()).lower().replace(' ', '_')\n",
    "            ticker = str(col[0].string.strip())\n",
    "            if sector not in sector_tickers:\n",
    "                sector_tickers[sector] = list()\n",
    "            sector_tickers[sector].append(ticker)\n",
    "    return sector_tickers\n",
    "\n",
    "\n",
    "def download_ohlc(sector_tickers, start, end):\n",
    "    sector_ohlc = {}\n",
    "    for sector, tickers in sector_tickers.iteritems():\n",
    "        print 'Downloading data from Yahoo for %s sector' % sector\n",
    "        data = DataReader(tickers, 'yahoo', start, end)\n",
    "        for item in ['Open', 'High', 'Low']:\n",
    "            data[item] = data[item] * data['Adj Close'] / data['Close']\n",
    "        data.rename(items={'Open': 'open', 'High': 'high', 'Low': 'low',\n",
    "                           'Adj Close': 'close', 'Volume': 'volume'},\n",
    "                    inplace=True)\n",
    "        data.drop(['Close'], inplace=True)\n",
    "        sector_ohlc[sector] = data\n",
    "    print 'Finished downloading data'\n",
    "    return sector_ohlc\n",
    "\n",
    "\n",
    "def store_HDF5(sector_ohlc, path):\n",
    "    with pd.get_store(path) as store:\n",
    "        for sector, ohlc in sector_ohlc.iteritems():\n",
    "            store[sector] = ohlc\n",
    "\n",
    "\n",
    "def get_snp500():\n",
    "    sector_tickers = scrape_list(SITE)\n",
    "    sector_ohlc = download_ohlc(sector_tickers, START, END)\n",
    "    store_HDF5(sector_ohlc, 'snp500.h5')\n"
   ]
  },
  {
   "cell_type": "code",
   "execution_count": null,
   "metadata": {
    "collapsed": true
   },
   "outputs": [],
   "source": []
  }
 ],
 "metadata": {
  "kernelspec": {
   "display_name": "Python 2",
   "language": "python",
   "name": "python2"
  },
  "language_info": {
   "codemirror_mode": {
    "name": "ipython",
    "version": 2
   },
   "file_extension": ".py",
   "mimetype": "text/x-python",
   "name": "python",
   "nbconvert_exporter": "python",
   "pygments_lexer": "ipython2",
   "version": "2.7.13"
  }
 },
 "nbformat": 4,
 "nbformat_minor": 0
}
